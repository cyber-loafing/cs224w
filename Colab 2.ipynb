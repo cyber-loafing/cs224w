{
 "cells": [
  {
   "metadata": {
    "ExecuteTime": {
     "end_time": "2024-10-20T03:30:09.840302Z",
     "start_time": "2024-10-20T03:30:09.814926Z"
    }
   },
   "cell_type": "code",
   "source": "import os",
   "id": "293697a28c641c6e",
   "outputs": [],
   "execution_count": 31
  },
  {
   "cell_type": "code",
   "id": "initial_id",
   "metadata": {
    "collapsed": true,
    "ExecuteTime": {
     "end_time": "2024-10-19T07:19:04.354156Z",
     "start_time": "2024-10-19T07:19:00.626851Z"
    }
   },
   "source": [
    "from torch_geometric.datasets import TUDataset\n",
    "if 'IS_GRADESCOPE_ENV' not in os.environ:\n",
    "  root = './enzymes'\n",
    "  name = 'ENZYMES'\n",
    "\n",
    "  # The ENZYMES dataset\n",
    "  pyg_dataset= TUDataset(root, name)\n",
    "\n",
    "  # You will find that there are 600 graphs in this dataset\n",
    "  print(pyg_dataset)"
   ],
   "outputs": [
    {
     "name": "stderr",
     "output_type": "stream",
     "text": [
      "Downloading https://www.chrsmrrs.com/graphkerneldatasets/ENZYMES.zip\n",
      "Processing...\n"
     ]
    },
    {
     "name": "stdout",
     "output_type": "stream",
     "text": [
      "ENZYMES(600)\n"
     ]
    },
    {
     "name": "stderr",
     "output_type": "stream",
     "text": [
      "Done!\n"
     ]
    }
   ],
   "execution_count": 4
  },
  {
   "metadata": {},
   "cell_type": "code",
   "outputs": [],
   "execution_count": null,
   "source": "",
   "id": "ac02d254747cdf24"
  },
  {
   "metadata": {},
   "cell_type": "markdown",
   "source": [
    "# PyTorch Geometric (Datasets and Data)\n",
    "##  Question 1: What is the number of classes and number of features in the ENZYMES dataset? (5 points) "
   ],
   "id": "7128bde74f0b94d0"
  },
  {
   "metadata": {
    "ExecuteTime": {
     "end_time": "2024-10-19T07:27:31.055115Z",
     "start_time": "2024-10-19T07:27:31.040608Z"
    }
   },
   "cell_type": "code",
   "source": [
    "def get_num_classes(pyg_dataset):\n",
    "    # TODO: Implement a function that takes a PyG dataset object\n",
    "    # and returns the number of classes for that dataset.\n",
    "  \n",
    "    num_classes = 0\n",
    "  \n",
    "    ############# Your code here ############\n",
    "    ## (~1 line of code)\n",
    "    ## Note\n",
    "    num_classes = pyg_dataset.num_classes\n",
    "  \n",
    "    #########################################\n",
    "  \n",
    "    return num_classes\n",
    "  \n",
    "def get_num_features(pyg_dataset):\n",
    "    # TODO: Implement a function that takes a PyG dataset object\n",
    "    # and returns the number of features for that dataset.\n",
    "  \n",
    "    num_features = 0\n",
    "  \n",
    "    ############# Your code here ############\n",
    "    ## (~1 line of code)\n",
    "    ## Note\n",
    "    num_features = pyg_dataset.num_node_features\n",
    "    #########################################\n",
    "  \n",
    "    return num_features\n",
    "\n",
    "if 'IS_GRADESCOPE_ENV' not in os.environ:\n",
    "  num_classes = get_num_classes(pyg_dataset)\n",
    "  num_features = get_num_features(pyg_dataset)\n",
    "  print(\"{} dataset has {} classes\".format(name, num_classes))\n",
    "  print(\"{} dataset has {} features\".format(name, num_features))"
   ],
   "id": "8599a8895b42043b",
   "outputs": [
    {
     "name": "stdout",
     "output_type": "stream",
     "text": [
      "ENZYMES dataset has 6 classes\n",
      "ENZYMES dataset has 3 features\n"
     ]
    }
   ],
   "execution_count": 7
  },
  {
   "metadata": {},
   "cell_type": "markdown",
   "source": [
    "每个 PyG 数据集都存储一个 torch_geometric.data.Data 对象列表，其中每个 torch_geometric.data.Data 对象代表一个图形。我们可以通过索引数据集来轻松获取 Data 对象。\n",
    "## Question 2: What is the label of the graph with index 100 in the ENZYMES dataset? (5 points)"
   ],
   "id": "36260425c84311c6"
  },
  {
   "metadata": {
    "ExecuteTime": {
     "end_time": "2024-10-19T12:53:54.433107Z",
     "start_time": "2024-10-19T12:53:54.418413Z"
    }
   },
   "cell_type": "code",
   "source": [
    "def get_graph_class(pyg_dataset, idx):\n",
    "    # TODO: Implement a function that takes a PyG dataset object,\n",
    "    # an index of a graph within the dataset, and returns the class/label\n",
    "    # of the graph (as an integer).\n",
    "    \n",
    "    label = -1\n",
    "    \n",
    "    ############# Your code here ############\n",
    "    ## (~1 line of code)\n",
    "    label = pyg_dataset[idx].y.item()\n",
    "    #########################################\n",
    "    \n",
    "    return label\n",
    "    \n",
    "# Here pyg_dataset is a dataset for graph classification\n",
    "if 'IS_GRADESCOPE_ENV' not in os.environ:\n",
    "    graph_0 = pyg_dataset[0]\n",
    "    print(graph_0)\n",
    "    idx = 100\n",
    "    label = get_graph_class(pyg_dataset, idx)\n",
    "    print('Graph with index {} has label {}'.format(idx, label))"
   ],
   "id": "7fff9e8a19c6729",
   "outputs": [
    {
     "name": "stdout",
     "output_type": "stream",
     "text": [
      "Data(edge_index=[2, 168], x=[37, 3], y=[1])\n",
      "Graph with index 100 has label 4\n"
     ]
    }
   ],
   "execution_count": 12
  },
  {
   "metadata": {},
   "cell_type": "markdown",
   "source": "pyg_dataset[0]是一个torch_geometric.data.Data对象，它代表一个图形。这个对象有几个属性，包括x、edge_index、edge_attr、y、pos和num_nodes。这些属性分别代表节点特征张量、边索引张量、边属性张量、标签、节点位置张量和节点数。在这个例子中，我们看到这个图形有37个节点，每个节点有3个特征，标签为6。这个图形的边索引张量是一个2x168的张量，表示图形中的边。这个图形的节点位置张量是一个37x3的张量，表示节点的位置。",
   "id": "d9ca28a34e54e448"
  },
  {
   "metadata": {
    "ExecuteTime": {
     "end_time": "2024-10-19T13:08:18.099289Z",
     "start_time": "2024-10-19T13:08:17.209249Z"
    }
   },
   "cell_type": "code",
   "source": [
    "# 可视化第一个图形\n",
    "import networkx as nx\n",
    "import matplotlib.pyplot as plt\n",
    "import torch\n",
    "\n",
    "def visualize_graph(pyg_data):\n",
    "    G = nx.Graph()\n",
    "    edge_index = pyg_data.edge_index\n",
    "    edges = edge_index.t().tolist()\n",
    "    G.add_edges_from(edges)\n",
    "    # layout \n",
    "    pos = nx.kamada_kawai_layout(G)\n",
    "    plt.figure()\n",
    "    nx.draw(G, pos, edge_color='black', width=1, linewidths=1,\n",
    "            node_size=500, node_color='pink', alpha=0.9,\n",
    "            labels={node: node for node in G.nodes()})\n",
    "\n",
    "visualize_graph(pyg_dataset[0])"
   ],
   "id": "a4ec54dc4602217d",
   "outputs": [
    {
     "data": {
      "text/plain": [
       "<Figure size 640x480 with 1 Axes>"
      ],
      "image/png": "[encoded data removed]"
     },
     "metadata": {},
     "output_type": "display_data"
    }
   ],
   "execution_count": 20
  },
  {
   "metadata": {},
   "cell_type": "markdown",
   "source": "## Question 3: How many edges does the graph with index 200 have? (5 points)",
   "id": "d4d4ed9a4484ead0"
  },
  {
   "metadata": {
    "ExecuteTime": {
     "end_time": "2024-10-19T13:11:52.029400Z",
     "start_time": "2024-10-19T13:11:52.023780Z"
    }
   },
   "cell_type": "code",
   "source": [
    "def get_graph_num_edges(pyg_dataset, idx):\n",
    "    # TODO: Implement a function that takes a PyG dataset object,\n",
    "    # the index of a graph in the dataset, and returns the number of\n",
    "    # edges in the graph (as an integer). You should not count an edge\n",
    "    # twice if the graph is undirected. For example, in an undirected\n",
    "    # graph G, if two nodes v and u are connected by an edge, this edge\n",
    "    # should only be counted once.\n",
    "    \n",
    "    num_edges = 0\n",
    "    \n",
    "    ############# Your code here ############\n",
    "    ## Note:\n",
    "    ## 1. You can't return the data.num_edges directly\n",
    "    ## 2. We assume the graph is undirected\n",
    "    ## 3. Look at the PyG dataset built in functions\n",
    "    ## (~4 lines of code)\n",
    "    num_edges = pyg_dataset[idx].edge_index.shape[1] // 2\n",
    "    \n",
    "    #########################################\n",
    "    \n",
    "    return num_edges\n",
    "\n",
    "idx = 200\n",
    "num_edges = get_graph_num_edges(pyg_dataset, idx)\n",
    "print('Graph with index {} has {} edges'.format(idx, num_edges))"
   ],
   "id": "1b922af673cde20c",
   "outputs": [
    {
     "name": "stdout",
     "output_type": "stream",
     "text": [
      "Graph with index 200 has 53 edges\n"
     ]
    }
   ],
   "execution_count": 26
  },
  {
   "metadata": {
    "ExecuteTime": {
     "end_time": "2024-10-19T13:11:03.059446Z",
     "start_time": "2024-10-19T13:11:02.935364Z"
    }
   },
   "cell_type": "code",
   "source": "visualize_graph(pyg_dataset[200])",
   "id": "ecbed58130034ce",
   "outputs": [
    {
     "data": {
      "text/plain": [
       "<Figure size 640x480 with 1 Axes>"
      ],
      "image/png": "[encoded data removed]"
     },
     "metadata": {},
     "output_type": "display_data"
    }
   ],
   "execution_count": 24
  },
  {
   "metadata": {
    "ExecuteTime": {
     "end_time": "2024-10-19T13:11:58.752555Z",
     "start_time": "2024-10-19T13:11:58.726478Z"
    }
   },
   "cell_type": "code",
   "source": "pyg_dataset[idx].edge_index",
   "id": "d83c81ae9904edb5",
   "outputs": [
    {
     "data": {
      "text/plain": [
       "tensor([[ 0,  0,  0,  1,  1,  1,  1,  2,  2,  2,  2,  3,  3,  3,  4,  4,  4,  4,\n",
       "          5,  5,  5,  6,  6,  6,  7,  7,  7,  8,  8,  8,  8,  8,  9,  9,  9, 10,\n",
       "         10, 10, 11, 11, 11, 12, 12, 12, 12, 13, 13, 13, 14, 14, 14, 14, 15, 15,\n",
       "         15, 16, 16, 16, 17, 17, 17, 18, 18, 18, 18, 19, 19, 19, 20, 20, 20, 20,\n",
       "         20, 21, 21, 21, 21, 22, 22, 22, 22, 22, 23, 23, 23, 23, 23, 24, 24, 24,\n",
       "         24, 25, 25, 25, 26, 26, 26, 26, 27, 27, 27, 28, 28, 28, 28, 28],\n",
       "        [21, 22, 23,  7, 15, 23, 24,  3,  5, 13, 26,  2,  8, 16,  8, 10, 16, 18,\n",
       "          2, 13, 26, 14, 24, 25,  1, 15, 23,  3,  4, 10, 16, 18, 17, 21, 22,  4,\n",
       "          8, 18, 19, 20, 28, 18, 20, 27, 28,  2,  5, 26,  6, 24, 25, 26,  1,  7,\n",
       "         23,  3,  4,  8,  9, 21, 22,  4,  8, 10, 12, 11, 20, 28, 11, 12, 19, 27,\n",
       "         28,  0,  9, 17, 22,  0,  9, 17, 21, 23,  0,  1,  7, 15, 22,  1,  6, 14,\n",
       "         25,  6, 14, 24,  2,  5, 13, 14, 12, 20, 28, 11, 12, 19, 20, 27]])"
      ]
     },
     "execution_count": 27,
     "metadata": {},
     "output_type": "execute_result"
    }
   ],
   "execution_count": 27
  },
  {
   "metadata": {},
   "cell_type": "markdown",
   "source": [
    "#  Open Graph Benchmark (OGB)\n",
    "开放图形基准测试 （OGB） 是一组真实、大规模和多样化的基准测试数据集，用于图形上的机器学习。其数据集使用 OGB Data Loader 自动下载、处理和拆分。然后，可以使用 OGB Evaluator 以统一的方式评估模型性能。"
   ],
   "id": "7532a21c532b1fca"
  },
  {
   "metadata": {
    "ExecuteTime": {
     "end_time": "2024-10-19T13:18:07.012336Z",
     "start_time": "2024-10-19T13:16:39.894523Z"
    }
   },
   "cell_type": "code",
   "source": [
    "import torch_geometric.transforms as T\n",
    "from ogb.nodeproppred import PygNodePropPredDataset\n",
    "\n",
    "dataset_name = 'ogbn-arxiv'\n",
    "# Load the dataset and transform it to sparse tensor\n",
    "dataset = PygNodePropPredDataset(name=dataset_name,\n",
    "                                transform=T.ToSparseTensor())\n",
    "print('The {} dataset has {} graph'.format(dataset_name, len(dataset)))\n",
    "\n",
    "# Extract the graph\n",
    "data = dataset[0]\n",
    "print(data)"
   ],
   "id": "629915bbd68d9ce5",
   "outputs": [
    {
     "name": "stdout",
     "output_type": "stream",
     "text": [
      "Downloading http://snap.stanford.edu/ogb/data/nodeproppred/arxiv.zip\n"
     ]
    },
    {
     "name": "stderr",
     "output_type": "stream",
     "text": [
      "Downloaded 0.08 GB: 100%|██████████| 81/81 [01:19<00:00,  1.02it/s]\n",
      "Processing...\n"
     ]
    },
    {
     "name": "stdout",
     "output_type": "stream",
     "text": [
      "Extracting dataset\\arxiv.zip\n",
      "Loading necessary files...\n",
      "This might take a while.\n",
      "Processing graphs...\n"
     ]
    },
    {
     "name": "stderr",
     "output_type": "stream",
     "text": [
      "100%|██████████| 1/1 [00:00<?, ?it/s]\n"
     ]
    },
    {
     "name": "stdout",
     "output_type": "stream",
     "text": [
      "Converting graphs into PyG objects...\n"
     ]
    },
    {
     "name": "stderr",
     "output_type": "stream",
     "text": [
      "100%|██████████| 1/1 [00:00<00:00, 999.36it/s]"
     ]
    },
    {
     "name": "stdout",
     "output_type": "stream",
     "text": [
      "Saving...\n",
      "The ogbn-arxiv dataset has 1 graph\n"
     ]
    },
    {
     "name": "stderr",
     "output_type": "stream",
     "text": [
      "\n",
      "Done!\n",
      "D:\\Program\\Anaconda\\envs\\cs224\\lib\\site-packages\\ogb\\nodeproppred\\dataset_pyg.py:69: FutureWarning: You are using `torch.load` with `weights_only=False` (the current default value), which uses the default pickle module implicitly. It is possible to construct malicious pickle data which will execute arbitrary code during unpickling (See https://github.com/pytorch/pytorch/blob/main/SECURITY.md#untrusted-models for more details). In a future release, the default value for `weights_only` will be flipped to `True`. This limits the functions that could be executed during unpickling. Arbitrary objects will no longer be allowed to be loaded via this mode unless they are explicitly allowlisted by the user via `torch.serialization.add_safe_globals`. We recommend you start setting `weights_only=True` for any use case where you don't have full control of the loaded file. Please open an issue on GitHub for any issues related to this experimental feature.\n",
      "  self.data, self.slices = torch.load(self.processed_paths[0])\n"
     ]
    },
    {
     "name": "stdout",
     "output_type": "stream",
     "text": [
      "Data(num_nodes=169343, x=[169343, 128], node_year=[169343, 1], y=[169343, 1], adj_t=[169343, 169343, nnz=1166243])\n"
     ]
    }
   ],
   "execution_count": 28
  },
  {
   "metadata": {},
   "cell_type": "code",
   "outputs": [],
   "execution_count": null,
   "source": "## Question 4: What is the number of features in the ogbn-arxiv dataset? (5 points)",
   "id": "3b0ed76a194d0ec"
  },
  {
   "metadata": {
    "ExecuteTime": {
     "end_time": "2024-10-19T13:19:16.365998Z",
     "start_time": "2024-10-19T13:19:16.347262Z"
    }
   },
   "cell_type": "code",
   "source": [
    "def graph_num_features(data):\n",
    "    # TODO: Implement a function that takes a PyG data object,\n",
    "    # and returns the number of features in the graph (as an integer).\n",
    "    \n",
    "    num_features = 0\n",
    "    \n",
    "    ############# Your code here ############\n",
    "    ## (~1 line of code)\n",
    "    num_features = data.num_features\n",
    "    \n",
    "    #########################################\n",
    "    \n",
    "    return num_features\n",
    "\n",
    "num_features = graph_num_features(data)\n",
    "print('The graph has {} features'.format(num_features))"
   ],
   "id": "615dd2bcc4cabc48",
   "outputs": [
    {
     "name": "stdout",
     "output_type": "stream",
     "text": [
      "The graph has 128 features\n"
     ]
    }
   ],
   "execution_count": 29
  },
  {
   "metadata": {},
   "cell_type": "markdown",
   "source": [
    "# GNN: Node Property Prediction\n",
    "在本节中，我们将使用 PyTorch Geometric 构建我们的第一个图形神经网络。然后，我们将它应用于节点属性预测（节点分类）的任务。具体来说，我们将使用 GCN 作为图神经网络的基础 （ Kipf et al. （2017））。为此，我们将使用 PyG 的内置 GCNConv 层。"
   ],
   "id": "eef08523c9446bac"
  },
  {
   "metadata": {
    "ExecuteTime": {
     "end_time": "2024-10-19T13:20:36.189193Z",
     "start_time": "2024-10-19T13:20:36.179032Z"
    }
   },
   "cell_type": "code",
   "source": [
    "import torch\n",
    "import pandas as pd\n",
    "import torch.nn.functional as F\n",
    "print(torch.__version__)\n",
    "\n",
    "# The PyG built-in GCNConv\n",
    "from torch_geometric.nn import GCNConv\n",
    "\n",
    "import torch_geometric.transforms as T\n",
    "from ogb.nodeproppred import PygNodePropPredDataset, Evaluator"
   ],
   "id": "9c512143839e77a1",
   "outputs": [
    {
     "name": "stdout",
     "output_type": "stream",
     "text": [
      "2.4.1+cu121\n"
     ]
    }
   ],
   "execution_count": 30
  },
  {
   "metadata": {
    "ExecuteTime": {
     "end_time": "2024-10-20T03:33:15.092803Z",
     "start_time": "2024-10-20T03:33:11.705234Z"
    }
   },
   "cell_type": "code",
   "source": [
    "dataset_name = 'ogbn-arxiv'\n",
    "dataset = PygNodePropPredDataset(name=dataset_name, transform=T.ToSparseTensor())\n",
    "data = dataset[0]\n",
    "\n",
    "# Make the adjacency matrix to symmetric # 这一步是为了将邻接矩阵转换为对称矩阵\n",
    "data.adj_t = data.adj_t.to_symmetric()\n",
    "\n",
    "device = 'cuda' if torch.cuda.is_available() else 'cpu'\n",
    "\n",
    "# If you use GPU, the device should be cuda\n",
    "print('Device: {}'.format(device))\n",
    "\n",
    "data = data.to(device)\n",
    "split_idx = dataset.get_idx_split()\n",
    "train_idx = split_idx['train'].to(device)"
   ],
   "id": "374a0759721d207e",
   "outputs": [
    {
     "name": "stderr",
     "output_type": "stream",
     "text": [
      "D:\\Program\\Anaconda\\envs\\cs224\\lib\\site-packages\\ogb\\nodeproppred\\dataset_pyg.py:69: FutureWarning: You are using `torch.load` with `weights_only=False` (the current default value), which uses the default pickle module implicitly. It is possible to construct malicious pickle data which will execute arbitrary code during unpickling (See https://github.com/pytorch/pytorch/blob/main/SECURITY.md#untrusted-models for more details). In a future release, the default value for `weights_only` will be flipped to `True`. This limits the functions that could be executed during unpickling. Arbitrary objects will no longer be allowed to be loaded via this mode unless they are explicitly allowlisted by the user via `torch.serialization.add_safe_globals`. We recommend you start setting `weights_only=True` for any use case where you don't have full control of the loaded file. Please open an issue on GitHub for any issues related to this experimental feature.\n",
      "  self.data, self.slices = torch.load(self.processed_paths[0])\n"
     ]
    },
    {
     "name": "stdout",
     "output_type": "stream",
     "text": [
      "Device: cuda\n"
     ]
    }
   ],
   "execution_count": 37
  },
  {
   "metadata": {},
   "cell_type": "markdown",
   "source": [
    "ogbn-arxiv数据集是有向图，表示arxiv网站上所有计算机相关论文引用网络。\n",
    "\n",
    "每个节点就是一篇arxiv论文，每条边都表示一篇文章引用另一篇文章。每篇文章有128维的特征向量，这是将文章的标题以及摘要向量化后取平均得到。\n",
    "\n",
    "使用的embedding是通过skip-gram模型在MAG语料获得，同时，还有论文的发表年份信息。\n"
   ],
   "id": "4a95d17524ff209b"
  },
  {
   "metadata": {
    "ExecuteTime": {
     "end_time": "2024-10-20T06:50:18.890526Z",
     "start_time": "2024-10-20T06:50:18.876663Z"
    }
   },
   "cell_type": "code",
   "source": [
    "# 描述一下数据集ogbn-arxiv\n",
    "print(data)\n",
    "# 数据集一共有169343个节点，每个节点有128维特征，node_year是节点的年份，y是节点的标签，edge_index是边的索引，edge_weight是边的权重，adj_t是邻接矩阵，split是数据集的划分。\n",
    "print(f\"Number of nodes: {data.num_nodes}\")\n",
    "print(f\"Number of edges: {data.num_edges}\")\n",
    "print(f\"Number of features: {data.num_features}\")\n",
    "print(f\"Number of classes: {dataset.num_classes}\")\n",
    "# year\n",
    "print(f\"Year: {data.node_year}\")"
   ],
   "id": "dc1740b1252261a9",
   "outputs": [
    {
     "name": "stdout",
     "output_type": "stream",
     "text": [
      "Data(num_nodes=169343, x=[169343, 128], node_year=[169343, 1], y=[169343, 1], adj_t=[169343, 169343, nnz=2315598])\n",
      "Number of nodes: 169343\n",
      "Number of edges: 2315598\n",
      "Number of features: 128\n",
      "Number of classes: 40\n",
      "Year: tensor([[2013],\n",
      "        [2015],\n",
      "        [2014],\n",
      "        ...,\n",
      "        [2020],\n",
      "        [2020],\n",
      "        [2020]], device='cuda:0')\n"
     ]
    }
   ],
   "execution_count": 50
  },
  {
   "metadata": {
    "ExecuteTime": {
     "end_time": "2024-10-20T06:51:49.581306Z",
     "start_time": "2024-10-20T06:51:49.563031Z"
    }
   },
   "cell_type": "code",
   "source": [
    "# train\n",
    "print(f\"Train shape: {split_idx['train'].shape}\")\n",
    "# valid\n",
    "print(f\"Valid shape: {split_idx['valid'].shape}\")\n",
    "# test\n",
    "print(f\"Test shape: {split_idx['test'].shape}\")"
   ],
   "id": "ed8e19537bfef4f2",
   "outputs": [
    {
     "name": "stdout",
     "output_type": "stream",
     "text": [
      "Train shape: torch.Size([90941])\n",
      "Valid shape: torch.Size([29799])\n",
      "Test shape: torch.Size([48603])\n"
     ]
    }
   ],
   "execution_count": 54
  },
  {
   "metadata": {
    "ExecuteTime": {
     "end_time": "2024-10-20T06:57:53.828953Z",
     "start_time": "2024-10-20T06:57:53.809840Z"
    }
   },
   "cell_type": "code",
   "source": [
    "data.adj_t\n",
    "# 有向图\n",
    "# 解析一下adj_t\n",
    "# adj_t是一个SparseTensor，表示邻接矩阵。\n",
    "# 如何读取adj_t呢？\n",
    "# adj_t有三个属性，row, col, size\n",
    "# row表示边的起始节点，col表示边的终止节点，size表示邻接矩阵的大小"
   ],
   "id": "634529a969c15975",
   "outputs": [
    {
     "data": {
      "text/plain": [
       "SparseTensor(row=tensor([     0,      0,      0,  ..., 169341, 169342, 169342], device='cuda:0'),\n",
       "             col=tensor([   411,    640,   1162,  ..., 163274,  27824, 158981], device='cuda:0'),\n",
       "             size=(169343, 169343), nnz=2315598, density=0.01%)"
      ]
     },
     "execution_count": 59,
     "metadata": {},
     "output_type": "execute_result"
    }
   ],
   "execution_count": 59
  },
  {
   "metadata": {},
   "cell_type": "markdown",
   "source": "\n",
   "id": "ebde81f067010951"
  },
  {
   "metadata": {},
   "cell_type": "markdown",
   "source": [
    "## GCN Model\n",
    "\n",
    "Now we will implement our GCN model!\n",
    "\n",
    "Please follow the figure below to implement the `forward` function.\n",
    "\n",
    "![test](./assets/gcn.png)"
   ],
   "id": "ee9d20dc126ca75c"
  },
  {
   "metadata": {
    "ExecuteTime": {
     "end_time": "2024-10-20T07:58:57.392224Z",
     "start_time": "2024-10-20T07:58:57.334701Z"
    }
   },
   "cell_type": "code",
   "source": [
    "class GCN(torch.nn.Module):\n",
    "    def __init__(self, input_dim, hidden_dim, output_dim, num_layers,\n",
    "                 dropout, return_embeds=False):\n",
    "        # TODO: Implement a function that initializes self.convs,\n",
    "        # self.bns, and self.softmax.\n",
    "\n",
    "        super(GCN, self).__init__()\n",
    "\n",
    "        # A list of GCNConv layers\n",
    "        self.convs = None\n",
    "\n",
    "        # A list of 1D batch normalization layers\n",
    "        self.bns = None\n",
    "\n",
    "        # The log softmax layer\n",
    "        self.softmax = None\n",
    "\n",
    "        ############# Your code here ############\n",
    "        ## Note:\n",
    "        ## 1. You should use torch.nn.ModuleList for self.convs and self.bns\n",
    "        ## 2. self.convs has num_layers GCNConv layers\n",
    "        ## 3. self.bns has num_layers - 1 BatchNorm1d layers\n",
    "        ## 4. You should use torch.nn.LogSoftmax for self.softmax\n",
    "        ## 5. The parameters you can set for GCNConv include 'in_channels' and\n",
    "        ## 'out_channels'. For more information please refer to the documentation:\n",
    "        ## https://pytorch-geometric.readthedocs.io/en/latest/modules/nn.html#torch_geometric.nn.conv.GCNConv\n",
    "        ## 6. The only parameter you need to set for BatchNorm1d is 'num_features'\n",
    "        ## For more information please refer to the documentation:\n",
    "        ## https://pytorch.org/docs/stable/generated/torch.nn.BatchNorm1d.html\n",
    "        ## (~10 lines of code)\n",
    "        self.convs = torch.nn.ModuleList(\n",
    "            [GCNConv(input_dim, hidden_dim)] + \n",
    "            [GCNConv(hidden_dim, hidden_dim) for _ in range(num_layers - 2)] + \n",
    "            [GCNConv(hidden_dim, output_dim)]\n",
    "        )\n",
    "        self.bns = torch.nn.ModuleList(\n",
    "            [torch.nn.BatchNorm1d(hidden_dim) for _ in range(num_layers - 1)]\n",
    "        )\n",
    "        self.softmax = torch.nn.LogSoftmax()\n",
    "        #########################################\n",
    "\n",
    "        # Probability of an element getting zeroed\n",
    "        self.dropout = dropout\n",
    "\n",
    "        # Skip classification layer and return node embeddings\n",
    "        self.return_embeds = return_embeds\n",
    "\n",
    "    def reset_parameters(self):\n",
    "        for conv in self.convs:\n",
    "            conv.reset_parameters()\n",
    "        for bn in self.bns:\n",
    "            bn.reset_parameters()\n",
    "\n",
    "    def forward(self, x, adj_t):\n",
    "        # TODO: Implement a function that takes the feature tensor x and\n",
    "        # edge_index tensor adj_t and returns the output tensor as\n",
    "        # shown in the figure.\n",
    "        ############# Your code here ############\n",
    "        ## Note:\n",
    "        ## 1. Construct the network as shown in the figure\n",
    "        ## 2. torch.nn.functional.relu and torch.nn.functional.dropout are useful\n",
    "        ## For more information please refer to the documentation:\n",
    "        ## https://pytorch.org/docs/stable/nn.functional.html\n",
    "        ## 3. Don't forget to set F.dropout training to self.training\n",
    "        ## 4. If return_embeds is True, then skip the last softmax layer\n",
    "        ## (~7 lines of code)\n",
    "        for i, conv in enumerate(self.convs[:-1]):\n",
    "            # print(f\"Conv: {i}\", x.shape)\n",
    "            x = conv(x, adj_t)\n",
    "            x = self.bns[i](x)\n",
    "            x = F.relu(x)\n",
    "            x = F.dropout(x, p=self.dropout, training=self.training)\n",
    "        x = self.convs[-1](x, adj_t)\n",
    "        if not self.return_embeds:\n",
    "            x = self.softmax(x)\n",
    "        out = x\n",
    "        #########################################\n",
    "\n",
    "        return out"
   ],
   "id": "f936ca3381fd421d",
   "outputs": [],
   "execution_count": 74
  },
  {
   "metadata": {
    "ExecuteTime": {
     "end_time": "2024-10-20T07:58:58.266371Z",
     "start_time": "2024-10-20T07:58:58.252908Z"
    }
   },
   "cell_type": "code",
   "source": [
    "def train(model, data, train_idx, optimizer, loss_fn):\n",
    "    # TODO: Implement a function that trains the model by\n",
    "    # using the given optimizer and loss_fn.\n",
    "    model.train()\n",
    "    loss = 0\n",
    "\n",
    "    ############# Your code here ############\n",
    "    ## Note:\n",
    "    ## 1. Zero grad the optimizer\n",
    "    ## 2. Feed the data into the model\n",
    "    ## 3. Slice the model output and label by train_idx\n",
    "    ## 4. Feed the sliced output and label to loss_fn\n",
    "    ## (~4 lines of code)\n",
    "    optimizer.zero_grad()\n",
    "    out = model(data.x, data.adj_t)\n",
    "    loss = loss_fn(out[train_idx], data.y[train_idx].reshape(-1))\n",
    "\n",
    "    #########################################\n",
    "\n",
    "    loss.backward()\n",
    "    optimizer.step()\n",
    "\n",
    "    return loss.item()"
   ],
   "id": "f0f7d824998a16d3",
   "outputs": [],
   "execution_count": 75
  },
  {
   "metadata": {
    "ExecuteTime": {
     "end_time": "2024-10-20T07:58:58.609859Z",
     "start_time": "2024-10-20T07:58:58.591543Z"
    }
   },
   "cell_type": "code",
   "source": [
    "# Test function here\n",
    "@torch.no_grad()\n",
    "def test(model, data, split_idx, evaluator, save_model_results=False):\n",
    "    # TODO: Implement a function that tests the model by\n",
    "    # using the given split_idx and evaluator.\n",
    "    model.eval()\n",
    "\n",
    "    # The output of model on all data\n",
    "    out = None\n",
    "\n",
    "    ############# Your code here ############\n",
    "    ## (~1 line of code)\n",
    "    ## Note:\n",
    "    ## 1. No index slicing here\n",
    "    out = model(data.x, data.adj_t)\n",
    "    #########################################\n",
    "\n",
    "    y_pred = out.argmax(dim=-1, keepdim=True)\n",
    "\n",
    "    train_acc = evaluator.eval({\n",
    "        'y_true': data.y[split_idx['train']],\n",
    "        'y_pred': y_pred[split_idx['train']],\n",
    "    })['acc']\n",
    "    valid_acc = evaluator.eval({\n",
    "        'y_true': data.y[split_idx['valid']],\n",
    "        'y_pred': y_pred[split_idx['valid']],\n",
    "    })['acc']\n",
    "    test_acc = evaluator.eval({\n",
    "        'y_true': data.y[split_idx['test']],\n",
    "        'y_pred': y_pred[split_idx['test']],\n",
    "    })['acc']\n",
    "\n",
    "    if save_model_results:\n",
    "      print (\"Saving Model Predictions\")\n",
    "\n",
    "      data = {}\n",
    "      data['y_pred'] = y_pred.view(-1).cpu().detach().numpy()\n",
    "\n",
    "      df = pd.DataFrame(data=data)\n",
    "      # Save locally as csv\n",
    "      df.to_csv('ogbn-arxiv_node.csv', sep=',', index=False)\n",
    "\n",
    "\n",
    "    return train_acc, valid_acc, test_acc"
   ],
   "id": "10a9f420aa86b47",
   "outputs": [],
   "execution_count": 76
  },
  {
   "metadata": {
    "ExecuteTime": {
     "end_time": "2024-10-20T07:58:59.216271Z",
     "start_time": "2024-10-20T07:58:59.139676Z"
    }
   },
   "cell_type": "code",
   "source": [
    "# Please do not change the args\n",
    "# if 'IS_GRADESCOPE_ENV' not in os.environ:\n",
    "args = {\n",
    "    'device': device,\n",
    "    'num_layers': 3,\n",
    "    'hidden_dim': 256,\n",
    "    'dropout': 0.5,\n",
    "    'lr': 0.01,\n",
    "    'epochs': 100,\n",
    "}\n",
    "model = GCN(data.num_features, args['hidden_dim'],\n",
    "            dataset.num_classes, args['num_layers'],\n",
    "            args['dropout']).to(device)\n",
    "evaluator = Evaluator(name='ogbn-arxiv')"
   ],
   "id": "eff4d891abf92591",
   "outputs": [],
   "execution_count": 77
  },
  {
   "metadata": {
    "ExecuteTime": {
     "end_time": "2024-10-20T07:59:23.327711Z",
     "start_time": "2024-10-20T07:58:59.564217Z"
    }
   },
   "cell_type": "code",
   "source": [
    "# Please do not change these args\n",
    "# Training should take <10min using GPU runtime\n",
    "import copy\n",
    "if 'IS_GRADESCOPE_ENV' not in os.environ:\n",
    "  # reset the parameters to initial random value\n",
    "  model.reset_parameters()\n",
    "\n",
    "  optimizer = torch.optim.Adam(model.parameters(), lr=args['lr'])\n",
    "  loss_fn = F.nll_loss\n",
    "\n",
    "  best_model = None\n",
    "  best_valid_acc = 0\n",
    "\n",
    "  for epoch in range(1, 1 + args[\"epochs\"]):\n",
    "    loss = train(model, data, train_idx, optimizer, loss_fn)\n",
    "    result = test(model, data, split_idx, evaluator)\n",
    "    train_acc, valid_acc, test_acc = result\n",
    "    if valid_acc > best_valid_acc:\n",
    "        best_valid_acc = valid_acc\n",
    "        best_model = copy.deepcopy(model)\n",
    "    print(f'Epoch: {epoch:02d}, '\n",
    "          f'Loss: {loss:.4f}, '\n",
    "          f'Train: {100 * train_acc:.2f}%, '\n",
    "          f'Valid: {100 * valid_acc:.2f}% '\n",
    "          f'Test: {100 * test_acc:.2f}%')"
   ],
   "id": "562acc0ab20ec138",
   "outputs": [
    {
     "name": "stdout",
     "output_type": "stream",
     "text": [
      "Conv: 0 torch.Size([169343, 128])\n",
      "Conv: 1 torch.Size([169343, 256])\n"
     ]
    },
    {
     "name": "stderr",
     "output_type": "stream",
     "text": [
      "D:\\Program\\Anaconda\\envs\\cs224\\lib\\site-packages\\torch\\nn\\modules\\module.py:1553: UserWarning: Implicit dimension choice for log_softmax has been deprecated. Change the call to include dim=X as an argument.\n",
      "  return self._call_impl(*args, **kwargs)\n"
     ]
    },
    {
     "name": "stdout",
     "output_type": "stream",
     "text": [
      "Conv: 0 torch.Size([169343, 128])\n",
      "Conv: 1 torch.Size([169343, 256])\n",
      "Epoch: 01, Loss: 4.0584, Train: 26.76%, Valid: 29.51% Test: 26.44%\n",
      "Conv: 0 torch.Size([169343, 128])\n",
      "Conv: 1 torch.Size([169343, 256])\n",
      "Conv: 0 torch.Size([169343, 128])\n",
      "Conv: 1 torch.Size([169343, 256])\n",
      "Epoch: 02, Loss: 2.4201, Train: 24.65%, Valid: 22.08% Test: 27.35%\n",
      "Conv: 0 torch.Size([169343, 128])\n",
      "Conv: 1 torch.Size([169343, 256])\n",
      "Conv: 0 torch.Size([169343, 128])\n",
      "Conv: 1 torch.Size([169343, 256])\n",
      "Epoch: 03, Loss: 1.9810, Train: 24.63%, Valid: 21.44% Test: 26.07%\n",
      "Conv: 0 torch.Size([169343, 128])\n",
      "Conv: 1 torch.Size([169343, 256])\n",
      "Conv: 0 torch.Size([169343, 128])\n",
      "Conv: 1 torch.Size([169343, 256])\n",
      "Epoch: 04, Loss: 1.8303, Train: 27.92%, Valid: 25.14% Test: 23.31%\n",
      "Conv: 0 torch.Size([169343, 128])\n",
      "Conv: 1 torch.Size([169343, 256])\n",
      "Conv: 0 torch.Size([169343, 128])\n",
      "Conv: 1 torch.Size([169343, 256])\n",
      "Epoch: 05, Loss: 1.6796, Train: 34.01%, Valid: 31.79% Test: 29.76%\n",
      "Conv: 0 torch.Size([169343, 128])\n",
      "Conv: 1 torch.Size([169343, 256])\n",
      "Conv: 0 torch.Size([169343, 128])\n",
      "Conv: 1 torch.Size([169343, 256])\n",
      "Epoch: 06, Loss: 1.6117, Train: 35.92%, Valid: 31.37% Test: 30.15%\n",
      "Conv: 0 torch.Size([169343, 128])\n",
      "Conv: 1 torch.Size([169343, 256])\n",
      "Conv: 0 torch.Size([169343, 128])\n",
      "Conv: 1 torch.Size([169343, 256])\n",
      "Epoch: 07, Loss: 1.5417, Train: 36.72%, Valid: 27.03% Test: 25.36%\n",
      "Conv: 0 torch.Size([169343, 128])\n",
      "Conv: 1 torch.Size([169343, 256])\n",
      "Conv: 0 torch.Size([169343, 128])\n",
      "Conv: 1 torch.Size([169343, 256])\n",
      "Epoch: 08, Loss: 1.4739, Train: 36.77%, Valid: 24.83% Test: 23.55%\n",
      "Conv: 0 torch.Size([169343, 128])\n",
      "Conv: 1 torch.Size([169343, 256])\n",
      "Conv: 0 torch.Size([169343, 128])\n",
      "Conv: 1 torch.Size([169343, 256])\n",
      "Epoch: 09, Loss: 1.4410, Train: 38.08%, Valid: 28.39% Test: 30.13%\n",
      "Conv: 0 torch.Size([169343, 128])\n",
      "Conv: 1 torch.Size([169343, 256])\n",
      "Conv: 0 torch.Size([169343, 128])\n",
      "Conv: 1 torch.Size([169343, 256])\n",
      "Epoch: 10, Loss: 1.3996, Train: 39.90%, Valid: 32.81% Test: 36.74%\n",
      "Conv: 0 torch.Size([169343, 128])\n",
      "Conv: 1 torch.Size([169343, 256])\n",
      "Conv: 0 torch.Size([169343, 128])\n",
      "Conv: 1 torch.Size([169343, 256])\n",
      "Epoch: 11, Loss: 1.3581, Train: 42.14%, Valid: 38.61% Test: 42.40%\n",
      "Conv: 0 torch.Size([169343, 128])\n",
      "Conv: 1 torch.Size([169343, 256])\n",
      "Conv: 0 torch.Size([169343, 128])\n",
      "Conv: 1 torch.Size([169343, 256])\n",
      "Epoch: 12, Loss: 1.3330, Train: 44.91%, Valid: 43.08% Test: 45.87%\n",
      "Conv: 0 torch.Size([169343, 128])\n",
      "Conv: 1 torch.Size([169343, 256])\n",
      "Conv: 0 torch.Size([169343, 128])\n",
      "Conv: 1 torch.Size([169343, 256])\n",
      "Epoch: 13, Loss: 1.3036, Train: 47.43%, Valid: 45.78% Test: 47.95%\n",
      "Conv: 0 torch.Size([169343, 128])\n",
      "Conv: 1 torch.Size([169343, 256])\n",
      "Conv: 0 torch.Size([169343, 128])\n",
      "Conv: 1 torch.Size([169343, 256])\n",
      "Epoch: 14, Loss: 1.2822, Train: 48.45%, Valid: 46.24% Test: 48.73%\n",
      "Conv: 0 torch.Size([169343, 128])\n",
      "Conv: 1 torch.Size([169343, 256])\n",
      "Conv: 0 torch.Size([169343, 128])\n",
      "Conv: 1 torch.Size([169343, 256])\n",
      "Epoch: 15, Loss: 1.2557, Train: 48.91%, Valid: 46.03% Test: 49.03%\n",
      "Conv: 0 torch.Size([169343, 128])\n",
      "Conv: 1 torch.Size([169343, 256])\n",
      "Conv: 0 torch.Size([169343, 128])\n",
      "Conv: 1 torch.Size([169343, 256])\n",
      "Epoch: 16, Loss: 1.2412, Train: 48.46%, Valid: 45.61% Test: 48.71%\n",
      "Conv: 0 torch.Size([169343, 128])\n",
      "Conv: 1 torch.Size([169343, 256])\n",
      "Conv: 0 torch.Size([169343, 128])\n",
      "Conv: 1 torch.Size([169343, 256])\n",
      "Epoch: 17, Loss: 1.2314, Train: 48.88%, Valid: 46.73% Test: 50.07%\n",
      "Conv: 0 torch.Size([169343, 128])\n",
      "Conv: 1 torch.Size([169343, 256])\n",
      "Conv: 0 torch.Size([169343, 128])\n",
      "Conv: 1 torch.Size([169343, 256])\n",
      "Epoch: 18, Loss: 1.2136, Train: 50.45%, Valid: 49.32% Test: 52.35%\n",
      "Conv: 0 torch.Size([169343, 128])\n",
      "Conv: 1 torch.Size([169343, 256])\n",
      "Conv: 0 torch.Size([169343, 128])\n",
      "Conv: 1 torch.Size([169343, 256])\n",
      "Epoch: 19, Loss: 1.2045, Train: 52.29%, Valid: 51.53% Test: 54.13%\n",
      "Conv: 0 torch.Size([169343, 128])\n",
      "Conv: 1 torch.Size([169343, 256])\n",
      "Conv: 0 torch.Size([169343, 128])\n",
      "Conv: 1 torch.Size([169343, 256])\n",
      "Epoch: 20, Loss: 1.1937, Train: 54.53%, Valid: 53.78% Test: 56.18%\n",
      "Conv: 0 torch.Size([169343, 128])\n",
      "Conv: 1 torch.Size([169343, 256])\n",
      "Conv: 0 torch.Size([169343, 128])\n",
      "Conv: 1 torch.Size([169343, 256])\n",
      "Epoch: 21, Loss: 1.1807, Train: 56.07%, Valid: 55.22% Test: 57.49%\n",
      "Conv: 0 torch.Size([169343, 128])\n",
      "Conv: 1 torch.Size([169343, 256])\n",
      "Conv: 0 torch.Size([169343, 128])\n",
      "Conv: 1 torch.Size([169343, 256])\n",
      "Epoch: 22, Loss: 1.1725, Train: 57.16%, Valid: 56.42% Test: 58.47%\n",
      "Conv: 0 torch.Size([169343, 128])\n",
      "Conv: 1 torch.Size([169343, 256])\n",
      "Conv: 0 torch.Size([169343, 128])\n",
      "Conv: 1 torch.Size([169343, 256])\n",
      "Epoch: 23, Loss: 1.1604, Train: 58.24%, Valid: 57.48% Test: 59.53%\n",
      "Conv: 0 torch.Size([169343, 128])\n",
      "Conv: 1 torch.Size([169343, 256])\n",
      "Conv: 0 torch.Size([169343, 128])\n",
      "Conv: 1 torch.Size([169343, 256])\n",
      "Epoch: 24, Loss: 1.1504, Train: 58.99%, Valid: 58.20% Test: 60.42%\n",
      "Conv: 0 torch.Size([169343, 128])\n",
      "Conv: 1 torch.Size([169343, 256])\n",
      "Conv: 0 torch.Size([169343, 128])\n",
      "Conv: 1 torch.Size([169343, 256])\n",
      "Epoch: 25, Loss: 1.1411, Train: 59.83%, Valid: 59.22% Test: 61.44%\n",
      "Conv: 0 torch.Size([169343, 128])\n",
      "Conv: 1 torch.Size([169343, 256])\n",
      "Conv: 0 torch.Size([169343, 128])\n",
      "Conv: 1 torch.Size([169343, 256])\n",
      "Epoch: 26, Loss: 1.1359, Train: 60.71%, Valid: 60.10% Test: 62.42%\n",
      "Conv: 0 torch.Size([169343, 128])\n",
      "Conv: 1 torch.Size([169343, 256])\n",
      "Conv: 0 torch.Size([169343, 128])\n",
      "Conv: 1 torch.Size([169343, 256])\n",
      "Epoch: 27, Loss: 1.1262, Train: 61.43%, Valid: 60.71% Test: 63.01%\n",
      "Conv: 0 torch.Size([169343, 128])\n",
      "Conv: 1 torch.Size([169343, 256])\n",
      "Conv: 0 torch.Size([169343, 128])\n",
      "Conv: 1 torch.Size([169343, 256])\n",
      "Epoch: 28, Loss: 1.1179, Train: 61.91%, Valid: 61.02% Test: 63.41%\n",
      "Conv: 0 torch.Size([169343, 128])\n",
      "Conv: 1 torch.Size([169343, 256])\n",
      "Conv: 0 torch.Size([169343, 128])\n",
      "Conv: 1 torch.Size([169343, 256])\n",
      "Epoch: 29, Loss: 1.1155, Train: 62.62%, Valid: 61.75% Test: 63.99%\n",
      "Conv: 0 torch.Size([169343, 128])\n",
      "Conv: 1 torch.Size([169343, 256])\n",
      "Conv: 0 torch.Size([169343, 128])\n",
      "Conv: 1 torch.Size([169343, 256])\n",
      "Epoch: 30, Loss: 1.1081, Train: 63.44%, Valid: 62.78% Test: 64.87%\n",
      "Conv: 0 torch.Size([169343, 128])\n",
      "Conv: 1 torch.Size([169343, 256])\n",
      "Conv: 0 torch.Size([169343, 128])\n",
      "Conv: 1 torch.Size([169343, 256])\n",
      "Epoch: 31, Loss: 1.0974, Train: 64.28%, Valid: 63.64% Test: 65.53%\n",
      "Conv: 0 torch.Size([169343, 128])\n",
      "Conv: 1 torch.Size([169343, 256])\n",
      "Conv: 0 torch.Size([169343, 128])\n",
      "Conv: 1 torch.Size([169343, 256])\n",
      "Epoch: 32, Loss: 1.0920, Train: 65.09%, Valid: 64.56% Test: 66.08%\n",
      "Conv: 0 torch.Size([169343, 128])\n",
      "Conv: 1 torch.Size([169343, 256])\n",
      "Conv: 0 torch.Size([169343, 128])\n",
      "Conv: 1 torch.Size([169343, 256])\n",
      "Epoch: 33, Loss: 1.0857, Train: 66.04%, Valid: 65.62% Test: 66.79%\n",
      "Conv: 0 torch.Size([169343, 128])\n",
      "Conv: 1 torch.Size([169343, 256])\n",
      "Conv: 0 torch.Size([169343, 128])\n",
      "Conv: 1 torch.Size([169343, 256])\n",
      "Epoch: 34, Loss: 1.0823, Train: 67.03%, Valid: 66.51% Test: 67.23%\n",
      "Conv: 0 torch.Size([169343, 128])\n",
      "Conv: 1 torch.Size([169343, 256])\n",
      "Conv: 0 torch.Size([169343, 128])\n",
      "Conv: 1 torch.Size([169343, 256])\n",
      "Epoch: 35, Loss: 1.0773, Train: 67.73%, Valid: 67.22% Test: 67.55%\n",
      "Conv: 0 torch.Size([169343, 128])\n",
      "Conv: 1 torch.Size([169343, 256])\n",
      "Conv: 0 torch.Size([169343, 128])\n",
      "Conv: 1 torch.Size([169343, 256])\n",
      "Epoch: 36, Loss: 1.0741, Train: 68.09%, Valid: 67.60% Test: 67.80%\n",
      "Conv: 0 torch.Size([169343, 128])\n",
      "Conv: 1 torch.Size([169343, 256])\n",
      "Conv: 0 torch.Size([169343, 128])\n",
      "Conv: 1 torch.Size([169343, 256])\n",
      "Epoch: 37, Loss: 1.0664, Train: 68.11%, Valid: 67.75% Test: 68.00%\n",
      "Conv: 0 torch.Size([169343, 128])\n",
      "Conv: 1 torch.Size([169343, 256])\n",
      "Conv: 0 torch.Size([169343, 128])\n",
      "Conv: 1 torch.Size([169343, 256])\n",
      "Epoch: 38, Loss: 1.0627, Train: 68.12%, Valid: 67.87% Test: 68.29%\n",
      "Conv: 0 torch.Size([169343, 128])\n",
      "Conv: 1 torch.Size([169343, 256])\n",
      "Conv: 0 torch.Size([169343, 128])\n",
      "Conv: 1 torch.Size([169343, 256])\n",
      "Epoch: 39, Loss: 1.0604, Train: 68.39%, Valid: 68.10% Test: 68.73%\n",
      "Conv: 0 torch.Size([169343, 128])\n",
      "Conv: 1 torch.Size([169343, 256])\n",
      "Conv: 0 torch.Size([169343, 128])\n",
      "Conv: 1 torch.Size([169343, 256])\n",
      "Epoch: 40, Loss: 1.0539, Train: 68.89%, Valid: 68.66% Test: 69.21%\n",
      "Conv: 0 torch.Size([169343, 128])\n",
      "Conv: 1 torch.Size([169343, 256])\n",
      "Conv: 0 torch.Size([169343, 128])\n",
      "Conv: 1 torch.Size([169343, 256])\n",
      "Epoch: 41, Loss: 1.0526, Train: 69.26%, Valid: 68.94% Test: 69.49%\n",
      "Conv: 0 torch.Size([169343, 128])\n",
      "Conv: 1 torch.Size([169343, 256])\n",
      "Conv: 0 torch.Size([169343, 128])\n",
      "Conv: 1 torch.Size([169343, 256])\n",
      "Epoch: 42, Loss: 1.0459, Train: 69.55%, Valid: 69.22% Test: 69.65%\n",
      "Conv: 0 torch.Size([169343, 128])\n",
      "Conv: 1 torch.Size([169343, 256])\n",
      "Conv: 0 torch.Size([169343, 128])\n",
      "Conv: 1 torch.Size([169343, 256])\n",
      "Epoch: 43, Loss: 1.0442, Train: 69.60%, Valid: 69.25% Test: 69.60%\n",
      "Conv: 0 torch.Size([169343, 128])\n",
      "Conv: 1 torch.Size([169343, 256])\n",
      "Conv: 0 torch.Size([169343, 128])\n",
      "Conv: 1 torch.Size([169343, 256])\n",
      "Epoch: 44, Loss: 1.0362, Train: 69.47%, Valid: 69.09% Test: 69.52%\n",
      "Conv: 0 torch.Size([169343, 128])\n",
      "Conv: 1 torch.Size([169343, 256])\n",
      "Conv: 0 torch.Size([169343, 128])\n",
      "Conv: 1 torch.Size([169343, 256])\n",
      "Epoch: 45, Loss: 1.0367, Train: 69.33%, Valid: 68.89% Test: 69.46%\n",
      "Conv: 0 torch.Size([169343, 128])\n",
      "Conv: 1 torch.Size([169343, 256])\n",
      "Conv: 0 torch.Size([169343, 128])\n",
      "Conv: 1 torch.Size([169343, 256])\n",
      "Epoch: 46, Loss: 1.0299, Train: 69.45%, Valid: 69.01% Test: 69.45%\n",
      "Conv: 0 torch.Size([169343, 128])\n",
      "Conv: 1 torch.Size([169343, 256])\n",
      "Conv: 0 torch.Size([169343, 128])\n",
      "Conv: 1 torch.Size([169343, 256])\n",
      "Epoch: 47, Loss: 1.0276, Train: 69.95%, Valid: 69.64% Test: 69.71%\n",
      "Conv: 0 torch.Size([169343, 128])\n",
      "Conv: 1 torch.Size([169343, 256])\n",
      "Conv: 0 torch.Size([169343, 128])\n",
      "Conv: 1 torch.Size([169343, 256])\n",
      "Epoch: 48, Loss: 1.0251, Train: 70.47%, Valid: 70.16% Test: 69.89%\n",
      "Conv: 0 torch.Size([169343, 128])\n",
      "Conv: 1 torch.Size([169343, 256])\n",
      "Conv: 0 torch.Size([169343, 128])\n",
      "Conv: 1 torch.Size([169343, 256])\n",
      "Epoch: 49, Loss: 1.0190, Train: 70.77%, Valid: 70.19% Test: 69.97%\n",
      "Conv: 0 torch.Size([169343, 128])\n",
      "Conv: 1 torch.Size([169343, 256])\n",
      "Conv: 0 torch.Size([169343, 128])\n",
      "Conv: 1 torch.Size([169343, 256])\n",
      "Epoch: 50, Loss: 1.0203, Train: 70.85%, Valid: 70.25% Test: 69.89%\n",
      "Conv: 0 torch.Size([169343, 128])\n",
      "Conv: 1 torch.Size([169343, 256])\n",
      "Conv: 0 torch.Size([169343, 128])\n",
      "Conv: 1 torch.Size([169343, 256])\n",
      "Epoch: 51, Loss: 1.0168, Train: 70.90%, Valid: 70.09% Test: 69.93%\n",
      "Conv: 0 torch.Size([169343, 128])\n",
      "Conv: 1 torch.Size([169343, 256])\n",
      "Conv: 0 torch.Size([169343, 128])\n",
      "Conv: 1 torch.Size([169343, 256])\n",
      "Epoch: 52, Loss: 1.0135, Train: 70.93%, Valid: 70.13% Test: 70.01%\n",
      "Conv: 0 torch.Size([169343, 128])\n",
      "Conv: 1 torch.Size([169343, 256])\n",
      "Conv: 0 torch.Size([169343, 128])\n",
      "Conv: 1 torch.Size([169343, 256])\n",
      "Epoch: 53, Loss: 1.0089, Train: 71.11%, Valid: 70.37% Test: 70.02%\n",
      "Conv: 0 torch.Size([169343, 128])\n",
      "Conv: 1 torch.Size([169343, 256])\n",
      "Conv: 0 torch.Size([169343, 128])\n",
      "Conv: 1 torch.Size([169343, 256])\n",
      "Epoch: 54, Loss: 1.0063, Train: 71.36%, Valid: 70.39% Test: 69.93%\n",
      "Conv: 0 torch.Size([169343, 128])\n",
      "Conv: 1 torch.Size([169343, 256])\n",
      "Conv: 0 torch.Size([169343, 128])\n",
      "Conv: 1 torch.Size([169343, 256])\n",
      "Epoch: 55, Loss: 1.0043, Train: 71.43%, Valid: 70.41% Test: 69.69%\n",
      "Conv: 0 torch.Size([169343, 128])\n",
      "Conv: 1 torch.Size([169343, 256])\n",
      "Conv: 0 torch.Size([169343, 128])\n",
      "Conv: 1 torch.Size([169343, 256])\n",
      "Epoch: 56, Loss: 0.9983, Train: 71.50%, Valid: 70.57% Test: 69.85%\n",
      "Conv: 0 torch.Size([169343, 128])\n",
      "Conv: 1 torch.Size([169343, 256])\n",
      "Conv: 0 torch.Size([169343, 128])\n",
      "Conv: 1 torch.Size([169343, 256])\n",
      "Epoch: 57, Loss: 0.9959, Train: 71.51%, Valid: 70.64% Test: 70.14%\n",
      "Conv: 0 torch.Size([169343, 128])\n",
      "Conv: 1 torch.Size([169343, 256])\n",
      "Conv: 0 torch.Size([169343, 128])\n",
      "Conv: 1 torch.Size([169343, 256])\n",
      "Epoch: 58, Loss: 0.9981, Train: 71.62%, Valid: 70.74% Test: 70.22%\n",
      "Conv: 0 torch.Size([169343, 128])\n",
      "Conv: 1 torch.Size([169343, 256])\n",
      "Conv: 0 torch.Size([169343, 128])\n",
      "Conv: 1 torch.Size([169343, 256])\n",
      "Epoch: 59, Loss: 0.9920, Train: 71.85%, Valid: 70.72% Test: 69.71%\n",
      "Conv: 0 torch.Size([169343, 128])\n",
      "Conv: 1 torch.Size([169343, 256])\n",
      "Conv: 0 torch.Size([169343, 128])\n",
      "Conv: 1 torch.Size([169343, 256])\n",
      "Epoch: 60, Loss: 0.9925, Train: 71.92%, Valid: 70.26% Test: 68.76%\n",
      "Conv: 0 torch.Size([169343, 128])\n",
      "Conv: 1 torch.Size([169343, 256])\n",
      "Conv: 0 torch.Size([169343, 128])\n",
      "Conv: 1 torch.Size([169343, 256])\n",
      "Epoch: 61, Loss: 0.9886, Train: 71.97%, Valid: 70.16% Test: 68.40%\n",
      "Conv: 0 torch.Size([169343, 128])\n",
      "Conv: 1 torch.Size([169343, 256])\n",
      "Conv: 0 torch.Size([169343, 128])\n",
      "Conv: 1 torch.Size([169343, 256])\n",
      "Epoch: 62, Loss: 0.9847, Train: 72.06%, Valid: 70.37% Test: 69.00%\n",
      "Conv: 0 torch.Size([169343, 128])\n",
      "Conv: 1 torch.Size([169343, 256])\n",
      "Conv: 0 torch.Size([169343, 128])\n",
      "Conv: 1 torch.Size([169343, 256])\n",
      "Epoch: 63, Loss: 0.9843, Train: 72.14%, Valid: 70.67% Test: 69.80%\n",
      "Conv: 0 torch.Size([169343, 128])\n",
      "Conv: 1 torch.Size([169343, 256])\n",
      "Conv: 0 torch.Size([169343, 128])\n",
      "Conv: 1 torch.Size([169343, 256])\n",
      "Epoch: 64, Loss: 0.9797, Train: 72.18%, Valid: 70.86% Test: 70.18%\n",
      "Conv: 0 torch.Size([169343, 128])\n",
      "Conv: 1 torch.Size([169343, 256])\n",
      "Conv: 0 torch.Size([169343, 128])\n",
      "Conv: 1 torch.Size([169343, 256])\n",
      "Epoch: 65, Loss: 0.9796, Train: 72.17%, Valid: 70.86% Test: 70.16%\n",
      "Conv: 0 torch.Size([169343, 128])\n",
      "Conv: 1 torch.Size([169343, 256])\n",
      "Conv: 0 torch.Size([169343, 128])\n",
      "Conv: 1 torch.Size([169343, 256])\n",
      "Epoch: 66, Loss: 0.9786, Train: 72.26%, Valid: 70.85% Test: 69.95%\n",
      "Conv: 0 torch.Size([169343, 128])\n",
      "Conv: 1 torch.Size([169343, 256])\n",
      "Conv: 0 torch.Size([169343, 128])\n",
      "Conv: 1 torch.Size([169343, 256])\n",
      "Epoch: 67, Loss: 0.9742, Train: 72.27%, Valid: 70.70% Test: 69.66%\n",
      "Conv: 0 torch.Size([169343, 128])\n",
      "Conv: 1 torch.Size([169343, 256])\n",
      "Conv: 0 torch.Size([169343, 128])\n",
      "Conv: 1 torch.Size([169343, 256])\n",
      "Epoch: 68, Loss: 0.9727, Train: 72.32%, Valid: 70.92% Test: 69.96%\n",
      "Conv: 0 torch.Size([169343, 128])\n",
      "Conv: 1 torch.Size([169343, 256])\n",
      "Conv: 0 torch.Size([169343, 128])\n",
      "Conv: 1 torch.Size([169343, 256])\n",
      "Epoch: 69, Loss: 0.9705, Train: 72.34%, Valid: 71.16% Test: 70.58%\n",
      "Conv: 0 torch.Size([169343, 128])\n",
      "Conv: 1 torch.Size([169343, 256])\n",
      "Conv: 0 torch.Size([169343, 128])\n",
      "Conv: 1 torch.Size([169343, 256])\n",
      "Epoch: 70, Loss: 0.9691, Train: 72.34%, Valid: 71.22% Test: 70.80%\n",
      "Conv: 0 torch.Size([169343, 128])\n",
      "Conv: 1 torch.Size([169343, 256])\n",
      "Conv: 0 torch.Size([169343, 128])\n",
      "Conv: 1 torch.Size([169343, 256])\n",
      "Epoch: 71, Loss: 0.9651, Train: 72.34%, Valid: 71.16% Test: 70.72%\n",
      "Conv: 0 torch.Size([169343, 128])\n",
      "Conv: 1 torch.Size([169343, 256])\n",
      "Conv: 0 torch.Size([169343, 128])\n",
      "Conv: 1 torch.Size([169343, 256])\n",
      "Epoch: 72, Loss: 0.9645, Train: 72.47%, Valid: 71.11% Test: 70.28%\n",
      "Conv: 0 torch.Size([169343, 128])\n",
      "Conv: 1 torch.Size([169343, 256])\n",
      "Conv: 0 torch.Size([169343, 128])\n",
      "Conv: 1 torch.Size([169343, 256])\n",
      "Epoch: 73, Loss: 0.9630, Train: 72.50%, Valid: 70.57% Test: 69.38%\n",
      "Conv: 0 torch.Size([169343, 128])\n",
      "Conv: 1 torch.Size([169343, 256])\n",
      "Conv: 0 torch.Size([169343, 128])\n",
      "Conv: 1 torch.Size([169343, 256])\n",
      "Epoch: 74, Loss: 0.9586, Train: 72.51%, Valid: 70.46% Test: 69.15%\n",
      "Conv: 0 torch.Size([169343, 128])\n",
      "Conv: 1 torch.Size([169343, 256])\n",
      "Conv: 0 torch.Size([169343, 128])\n",
      "Conv: 1 torch.Size([169343, 256])\n",
      "Epoch: 75, Loss: 0.9571, Train: 72.63%, Valid: 70.81% Test: 69.78%\n",
      "Conv: 0 torch.Size([169343, 128])\n",
      "Conv: 1 torch.Size([169343, 256])\n",
      "Conv: 0 torch.Size([169343, 128])\n",
      "Conv: 1 torch.Size([169343, 256])\n",
      "Epoch: 76, Loss: 0.9549, Train: 72.70%, Valid: 71.18% Test: 70.36%\n",
      "Conv: 0 torch.Size([169343, 128])\n",
      "Conv: 1 torch.Size([169343, 256])\n",
      "Conv: 0 torch.Size([169343, 128])\n",
      "Conv: 1 torch.Size([169343, 256])\n",
      "Epoch: 77, Loss: 0.9533, Train: 72.78%, Valid: 71.30% Test: 70.43%\n",
      "Conv: 0 torch.Size([169343, 128])\n",
      "Conv: 1 torch.Size([169343, 256])\n",
      "Conv: 0 torch.Size([169343, 128])\n",
      "Conv: 1 torch.Size([169343, 256])\n",
      "Epoch: 78, Loss: 0.9527, Train: 72.83%, Valid: 71.35% Test: 70.38%\n",
      "Conv: 0 torch.Size([169343, 128])\n",
      "Conv: 1 torch.Size([169343, 256])\n",
      "Conv: 0 torch.Size([169343, 128])\n",
      "Conv: 1 torch.Size([169343, 256])\n",
      "Epoch: 79, Loss: 0.9502, Train: 72.88%, Valid: 71.43% Test: 70.58%\n",
      "Conv: 0 torch.Size([169343, 128])\n",
      "Conv: 1 torch.Size([169343, 256])\n",
      "Conv: 0 torch.Size([169343, 128])\n",
      "Conv: 1 torch.Size([169343, 256])\n",
      "Epoch: 80, Loss: 0.9482, Train: 73.00%, Valid: 71.64% Test: 70.79%\n",
      "Conv: 0 torch.Size([169343, 128])\n",
      "Conv: 1 torch.Size([169343, 256])\n",
      "Conv: 0 torch.Size([169343, 128])\n",
      "Conv: 1 torch.Size([169343, 256])\n",
      "Epoch: 81, Loss: 0.9467, Train: 73.16%, Valid: 71.65% Test: 70.66%\n",
      "Conv: 0 torch.Size([169343, 128])\n",
      "Conv: 1 torch.Size([169343, 256])\n",
      "Conv: 0 torch.Size([169343, 128])\n",
      "Conv: 1 torch.Size([169343, 256])\n",
      "Epoch: 82, Loss: 0.9464, Train: 73.20%, Valid: 71.34% Test: 69.96%\n",
      "Conv: 0 torch.Size([169343, 128])\n",
      "Conv: 1 torch.Size([169343, 256])\n",
      "Conv: 0 torch.Size([169343, 128])\n",
      "Conv: 1 torch.Size([169343, 256])\n",
      "Epoch: 83, Loss: 0.9409, Train: 73.06%, Valid: 70.77% Test: 69.32%\n",
      "Conv: 0 torch.Size([169343, 128])\n",
      "Conv: 1 torch.Size([169343, 256])\n",
      "Conv: 0 torch.Size([169343, 128])\n",
      "Conv: 1 torch.Size([169343, 256])\n",
      "Epoch: 84, Loss: 0.9395, Train: 73.05%, Valid: 70.98% Test: 69.74%\n",
      "Conv: 0 torch.Size([169343, 128])\n",
      "Conv: 1 torch.Size([169343, 256])\n",
      "Conv: 0 torch.Size([169343, 128])\n",
      "Conv: 1 torch.Size([169343, 256])\n",
      "Epoch: 85, Loss: 0.9427, Train: 73.09%, Valid: 71.16% Test: 70.34%\n",
      "Conv: 0 torch.Size([169343, 128])\n",
      "Conv: 1 torch.Size([169343, 256])\n",
      "Conv: 0 torch.Size([169343, 128])\n",
      "Conv: 1 torch.Size([169343, 256])\n",
      "Epoch: 86, Loss: 0.9387, Train: 73.03%, Valid: 71.17% Test: 70.44%\n",
      "Conv: 0 torch.Size([169343, 128])\n",
      "Conv: 1 torch.Size([169343, 256])\n",
      "Conv: 0 torch.Size([169343, 128])\n",
      "Conv: 1 torch.Size([169343, 256])\n",
      "Epoch: 87, Loss: 0.9354, Train: 73.12%, Valid: 71.16% Test: 70.23%\n",
      "Conv: 0 torch.Size([169343, 128])\n",
      "Conv: 1 torch.Size([169343, 256])\n",
      "Conv: 0 torch.Size([169343, 128])\n",
      "Conv: 1 torch.Size([169343, 256])\n",
      "Epoch: 88, Loss: 0.9346, Train: 73.32%, Valid: 71.32% Test: 70.31%\n",
      "Conv: 0 torch.Size([169343, 128])\n",
      "Conv: 1 torch.Size([169343, 256])\n",
      "Conv: 0 torch.Size([169343, 128])\n",
      "Conv: 1 torch.Size([169343, 256])\n",
      "Epoch: 89, Loss: 0.9342, Train: 73.44%, Valid: 71.34% Test: 70.33%\n",
      "Conv: 0 torch.Size([169343, 128])\n",
      "Conv: 1 torch.Size([169343, 256])\n",
      "Conv: 0 torch.Size([169343, 128])\n",
      "Conv: 1 torch.Size([169343, 256])\n",
      "Epoch: 90, Loss: 0.9300, Train: 73.41%, Valid: 71.32% Test: 70.34%\n",
      "Conv: 0 torch.Size([169343, 128])\n",
      "Conv: 1 torch.Size([169343, 256])\n",
      "Conv: 0 torch.Size([169343, 128])\n",
      "Conv: 1 torch.Size([169343, 256])\n",
      "Epoch: 91, Loss: 0.9287, Train: 73.38%, Valid: 71.41% Test: 70.47%\n",
      "Conv: 0 torch.Size([169343, 128])\n",
      "Conv: 1 torch.Size([169343, 256])\n",
      "Conv: 0 torch.Size([169343, 128])\n",
      "Conv: 1 torch.Size([169343, 256])\n",
      "Epoch: 92, Loss: 0.9289, Train: 73.31%, Valid: 71.43% Test: 70.66%\n",
      "Conv: 0 torch.Size([169343, 128])\n",
      "Conv: 1 torch.Size([169343, 256])\n",
      "Conv: 0 torch.Size([169343, 128])\n",
      "Conv: 1 torch.Size([169343, 256])\n",
      "Epoch: 93, Loss: 0.9287, Train: 73.24%, Valid: 71.53% Test: 70.99%\n",
      "Conv: 0 torch.Size([169343, 128])\n",
      "Conv: 1 torch.Size([169343, 256])\n",
      "Conv: 0 torch.Size([169343, 128])\n",
      "Conv: 1 torch.Size([169343, 256])\n",
      "Epoch: 94, Loss: 0.9255, Train: 73.45%, Valid: 71.71% Test: 71.11%\n",
      "Conv: 0 torch.Size([169343, 128])\n",
      "Conv: 1 torch.Size([169343, 256])\n",
      "Conv: 0 torch.Size([169343, 128])\n",
      "Conv: 1 torch.Size([169343, 256])\n",
      "Epoch: 95, Loss: 0.9251, Train: 73.51%, Valid: 71.80% Test: 71.05%\n",
      "Conv: 0 torch.Size([169343, 128])\n",
      "Conv: 1 torch.Size([169343, 256])\n",
      "Conv: 0 torch.Size([169343, 128])\n",
      "Conv: 1 torch.Size([169343, 256])\n",
      "Epoch: 96, Loss: 0.9221, Train: 73.54%, Valid: 71.50% Test: 70.34%\n",
      "Conv: 0 torch.Size([169343, 128])\n",
      "Conv: 1 torch.Size([169343, 256])\n",
      "Conv: 0 torch.Size([169343, 128])\n",
      "Conv: 1 torch.Size([169343, 256])\n",
      "Epoch: 97, Loss: 0.9203, Train: 73.62%, Valid: 71.36% Test: 70.20%\n",
      "Conv: 0 torch.Size([169343, 128])\n",
      "Conv: 1 torch.Size([169343, 256])\n",
      "Conv: 0 torch.Size([169343, 128])\n",
      "Conv: 1 torch.Size([169343, 256])\n",
      "Epoch: 98, Loss: 0.9192, Train: 73.61%, Valid: 71.27% Test: 70.25%\n",
      "Conv: 0 torch.Size([169343, 128])\n",
      "Conv: 1 torch.Size([169343, 256])\n",
      "Conv: 0 torch.Size([169343, 128])\n",
      "Conv: 1 torch.Size([169343, 256])\n",
      "Epoch: 99, Loss: 0.9203, Train: 73.46%, Valid: 71.12% Test: 70.45%\n",
      "Conv: 0 torch.Size([169343, 128])\n",
      "Conv: 1 torch.Size([169343, 256])\n",
      "Conv: 0 torch.Size([169343, 128])\n",
      "Conv: 1 torch.Size([169343, 256])\n",
      "Epoch: 100, Loss: 0.9206, Train: 73.62%, Valid: 71.29% Test: 70.31%\n"
     ]
    }
   ],
   "execution_count": 78
  },
  {
   "metadata": {
    "ExecuteTime": {
     "end_time": "2024-10-20T08:01:14.680124Z",
     "start_time": "2024-10-20T08:01:14.231998Z"
    }
   },
   "cell_type": "code",
   "source": [
    "if 'IS_GRADESCOPE_ENV' not in os.environ:\n",
    "  best_result = test(best_model, data, split_idx, evaluator, save_model_results=True)\n",
    "  train_acc, valid_acc, test_acc = best_result\n",
    "  print(f'Best model: '\n",
    "        f'Train: {100 * train_acc:.2f}%, '\n",
    "        f'Valid: {100 * valid_acc:.2f}% '\n",
    "        f'Test: {100 * test_acc:.2f}%')"
   ],
   "id": "2129be87db4118a5",
   "outputs": [
    {
     "name": "stdout",
     "output_type": "stream",
     "text": [
      "Conv: 0 torch.Size([169343, 128])\n",
      "Conv: 1 torch.Size([169343, 256])\n",
      "Saving Model Predictions\n",
      "Best model: Train: 73.51%, Valid: 71.80% Test: 71.05%\n"
     ]
    }
   ],
   "execution_count": 79
  },
  {
   "metadata": {},
   "cell_type": "code",
   "outputs": [],
   "execution_count": null,
   "source": "",
   "id": "f010b0bb3324ee"
  },
  {
   "metadata": {},
   "cell_type": "markdown",
   "source": [
    "# GNN: Graph Property Prediction\n",
    "在本节中，我们将创建一个用于图属性预测（图分类）的图神经网络。"
   ],
   "id": "f4c8cdef94b39d0f"
  },
  {
   "metadata": {
    "ExecuteTime": {
     "end_time": "2024-10-20T08:08:52.147887Z",
     "start_time": "2024-10-20T08:08:51.973053Z"
    }
   },
   "cell_type": "code",
   "source": [
    "from ogb.graphproppred import PygGraphPropPredDataset, Evaluator\n",
    "from torch_geometric.data import DataLoader\n",
    "from tqdm.notebook import tqdm\n",
    "# 禁止warning\n",
    "import warnings\n",
    "warnings.filterwarnings(\"ignore\")\n",
    "\n",
    "# Load the dataset\n",
    "dataset = PygGraphPropPredDataset(name='ogbg-molhiv')\n",
    "\n",
    "device = 'cuda' if torch.cuda.is_available() else 'cpu'\n",
    "print('Device: {}'.format(device))\n",
    "\n",
    "split_idx = dataset.get_idx_split()\n",
    "\n",
    "# Check task type\n",
    "print('Task type: {}'.format(dataset.task_type))"
   ],
   "id": "2a00557f915821e6",
   "outputs": [
    {
     "name": "stdout",
     "output_type": "stream",
     "text": [
      "Device: cuda\n",
      "Task type: binary classification\n"
     ]
    }
   ],
   "execution_count": 82
  },
  {
   "metadata": {
    "ExecuteTime": {
     "end_time": "2024-10-20T08:08:53.220927Z",
     "start_time": "2024-10-20T08:08:53.203293Z"
    }
   },
   "cell_type": "code",
   "source": [
    "train_loader = DataLoader(dataset[split_idx[\"train\"]], batch_size=32, shuffle=True, num_workers=0)\n",
    "valid_loader = DataLoader(dataset[split_idx[\"valid\"]], batch_size=32, shuffle=False, num_workers=0)\n",
    "test_loader = DataLoader(dataset[split_idx[\"test\"]], batch_size=32, shuffle=False, num_workers=0)"
   ],
   "id": "ba8d53db9bdc4617",
   "outputs": [],
   "execution_count": 83
  },
  {
   "metadata": {
    "ExecuteTime": {
     "end_time": "2024-10-20T08:09:10.421366Z",
     "start_time": "2024-10-20T08:09:10.404508Z"
    }
   },
   "cell_type": "code",
   "source": [
    "args = {\n",
    "    'device': device,\n",
    "    'num_layers': 5,\n",
    "    'hidden_dim': 256,\n",
    "    'dropout': 0.5,\n",
    "    'lr': 0.001,\n",
    "    'epochs': 30,\n",
    "}\n",
    "args"
   ],
   "id": "9ffe66c1bcfdd065",
   "outputs": [
    {
     "data": {
      "text/plain": [
       "{'device': 'cuda',\n",
       " 'num_layers': 5,\n",
       " 'hidden_dim': 256,\n",
       " 'dropout': 0.5,\n",
       " 'lr': 0.001,\n",
       " 'epochs': 30}"
      ]
     },
     "execution_count": 85,
     "metadata": {},
     "output_type": "execute_result"
    }
   ],
   "execution_count": 85
  },
  {
   "metadata": {},
   "cell_type": "code",
   "outputs": [],
   "execution_count": null,
   "source": [
    "from ogb.graphproppred.mol_encoder import AtomEncoder\n",
    "from torch_geometric.nn import global_add_pool, global_mean_pool\n",
    "\n",
    "### GCN to predict graph property\n",
    "class GCN_Graph(torch.nn.Module):\n",
    "    def __init__(self, hidden_dim, output_dim, num_layers, dropout):\n",
    "        super(GCN_Graph, self).__init__()\n",
    "\n",
    "        # Load encoders for Atoms in molecule graphs\n",
    "        self.node_encoder = AtomEncoder(hidden_dim)\n",
    "\n",
    "        # Node embedding model\n",
    "        # Note that the input_dim and output_dim are set to hidden_dim\n",
    "        self.gnn_node = GCN(hidden_dim, hidden_dim,\n",
    "            hidden_dim, num_layers, dropout, return_embeds=True)\n",
    "\n",
    "        self.pool = None\n",
    "\n",
    "        ############# Your code here ############\n",
    "        ## Note:\n",
    "        ## 1. Initialize self.pool as a global mean pooling layer\n",
    "        ## For more information please refer to the documentation:\n",
    "        ## https://pytorch-geometric.readthedocs.io/en/latest/modules/nn.html#global-pooling-layers\n",
    "        self.pool = global_mean_pool\n",
    "        #########################################\n",
    "\n",
    "        # Output layer\n",
    "        self.linear = torch.nn.Linear(hidden_dim, output_dim)\n",
    "\n",
    "\n",
    "    def reset_parameters(self):\n",
    "      self.gnn_node.reset_parameters()\n",
    "      self.linear.reset_parameters()\n",
    "\n",
    "    def forward(self, batched_data):\n",
    "        # TODO: Implement a function that takes as input a\n",
    "        # mini-batch of graphs (torch_geometric.data.Batch) and\n",
    "        # returns the predicted graph property for each graph.\n",
    "        #\n",
    "        # NOTE: Since we are predicting graph level properties,\n",
    "        # your output will be a tensor with dimension equaling\n",
    "        # the number of graphs in the mini-batch\n",
    "\n",
    "\n",
    "        # Extract important attributes of our mini-batch\n",
    "        x, edge_index, batch = batched_data.x, batched_data.edge_index, batched_data.batch\n",
    "        embed = self.node_encoder(x)\n",
    "\n",
    "        out = None\n",
    "\n",
    "        ############# Your code here ############\n",
    "        ## Note:\n",
    "        ## 1. Construct node embeddings using existing GCN model\n",
    "        ## 2. Use the global pooling layer to aggregate features for each individual graph\n",
    "        ## For more information please refer to the documentation:\n",
    "        ## https://pytorch-geometric.readthedocs.io/en/latest/modules/nn.html#global-pooling-layers\n",
    "        ## 3. Use a linear layer to predict each graph's property\n",
    "        ## (~3 lines of code)\n",
    "        node_embeddings = self.gnn_node(embed, edge_index)\n",
    "        graph_embeddings = self.pool(node_embeddings, batch)\n",
    "        out = self.linear(graph_embeddings)\n",
    "        #########################################\n",
    "\n",
    "        return out"
   ],
   "id": "d7e6b893de303851"
  }
 ],
 "metadata": {
  "kernelspec": {
   "display_name": "cs224",
   "language": "python",
   "name": "cs224"
  },
  "language_info": {
   "codemirror_mode": {
    "name": "ipython",
    "version": 2
   },
   "file_extension": ".py",
   "mimetype": "text/x-python",
   "name": "python",
   "nbconvert_exporter": "python",
   "pygments_lexer": "ipython2",
   "version": "2.7.6"
  }
 },
 "nbformat": 4,
 "nbformat_minor": 5
}
